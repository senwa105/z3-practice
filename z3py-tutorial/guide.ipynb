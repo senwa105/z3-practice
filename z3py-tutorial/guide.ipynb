{
 "cells": [
  {
   "cell_type": "code",
   "execution_count": 1,
   "id": "71dab3bc-a9a5-4e6a-a3fc-d474dc60a17e",
   "metadata": {},
   "outputs": [],
   "source": [
    "from z3 import *"
   ]
  },
  {
   "cell_type": "markdown",
   "id": "b8ea8fec-c9b2-45e8-93f2-53ea11751af0",
   "metadata": {},
   "source": [
    "# Getting Started"
   ]
  },
  {
   "cell_type": "markdown",
   "id": "faa05b89-9395-4228-a15c-1e5d588d2a0e",
   "metadata": {},
   "source": [
    "Creating variables and solving a system of constraints"
   ]
  },
  {
   "cell_type": "code",
   "execution_count": 2,
   "id": "8efaadc2-40be-4f0e-9e3f-e93d10593302",
   "metadata": {},
   "outputs": [
    {
     "name": "stdout",
     "output_type": "stream",
     "text": [
      "[y = 0, x = 7]\n"
     ]
    }
   ],
   "source": [
    "x = Int('x')\n",
    "y = Int('y')\n",
    "solve(x > 2, y < 10, x + 2*y == 7)"
   ]
  },
  {
   "cell_type": "markdown",
   "id": "9cf89b38-3ba8-4184-aba2-d1cf457c59a0",
   "metadata": {},
   "source": [
    "Formula/expression simplification"
   ]
  },
  {
   "cell_type": "code",
   "execution_count": 3,
   "id": "0f1b0c32-f137-449c-8821-b10f718d8eff",
   "metadata": {},
   "outputs": [
    {
     "name": "stdout",
     "output_type": "stream",
     "text": [
      "3 + 3*x + y\n",
      "Not(y <= -2)\n",
      "And(x >= 2, 2*x**2 + y**2 >= 3)\n"
     ]
    }
   ],
   "source": [
    "x = Int('x')\n",
    "y = Int('y')\n",
    "print(simplify(x + y + 2 *x + 3))\n",
    "print(simplify(x < y + x + 2))\n",
    "print(simplify(And(x + 1 >= 3, x**2 + x**2 + y**2 + 2 >= 5)))"
   ]
  },
  {
   "cell_type": "markdown",
   "id": "a0ef69fc-4ab0-439a-bbc1-1d71a58283b2",
   "metadata": {},
   "source": [
    "I believe the first print is supposed to have prettier formatting (at least for the web), but it doesn't seeming to be working."
   ]
  },
  {
   "cell_type": "code",
   "execution_count": 4,
   "id": "84399fb5-6b1c-41b8-8844-6256c41b2cd4",
   "metadata": {},
   "outputs": [
    {
     "name": "stdout",
     "output_type": "stream",
     "text": [
      "x**2 + ToReal(y) + 2 >= 1\n",
      "x**2 + ToReal(y) + 2 >= 1\n"
     ]
    }
   ],
   "source": [
    "x = Int('x')\n",
    "y = Int('y')\n",
    "print(x**2 + y++2 >= 1)\n",
    "set_option(html_mode=False)\n",
    "print(x**2 + y++2 >= 1)"
   ]
  },
  {
   "cell_type": "markdown",
   "id": "973639a7-d69a-444e-990a-c4439324d671",
   "metadata": {},
   "source": [
    "The output of this can be copy-pasted into a markdown cell to show prettier formatting"
   ]
  },
  {
   "cell_type": "code",
   "execution_count": 5,
   "id": "f7175abd-0a5e-45fe-a39a-05551c4f2ac4",
   "metadata": {},
   "outputs": [
    {
     "name": "stdout",
     "output_type": "stream",
     "text": [
      "x<sup>2</sup> + y<sup>2</sup> &ge; 1\n"
     ]
    }
   ],
   "source": [
    "set_option(html_mode=True)\n",
    "print(x**2 + y**2 >= 1)\n",
    "set_option(html_mode=False)"
   ]
  },
  {
   "cell_type": "markdown",
   "id": "69409b6e-76c5-4f5d-8b05-88c2da081b82",
   "metadata": {},
   "source": [
    "x<sup>2</sup> + y<sup>2</sup> &ge; 1"
   ]
  },
  {
   "cell_type": "markdown",
   "id": "9b5309ba-7716-4c11-ad40-0d0ba756e5c6",
   "metadata": {},
   "source": [
    "Expressions can be traversed with built-in functions"
   ]
  },
  {
   "cell_type": "code",
   "execution_count": 6,
   "id": "abf65c5a-55f5-4f7a-ad9b-02b097349c6e",
   "metadata": {},
   "outputs": [
    {
     "name": "stdout",
     "output_type": "stream",
     "text": [
      "num args:  2\n",
      "children:  [x + y, 3]\n",
      "1st child:  x + y\n",
      "2nd child:  3\n",
      "operator:  >=\n",
      "op name:  >=\n"
     ]
    }
   ],
   "source": [
    "x = Int('x')\n",
    "y = Int('y')\n",
    "n = x + y >= 3\n",
    "print(\"num args: \", n.num_args())\n",
    "print(\"children: \", n.children())\n",
    "print(\"1st child: \", n.arg(0))\n",
    "print(\"2nd child: \", n.arg(1))\n",
    "print(\"operator: \", n.decl())\n",
    "print(\"op name: \", n.decl().name())"
   ]
  },
  {
   "cell_type": "markdown",
   "id": "44fd796f-9ab2-49bc-b880-2eb617bc4531",
   "metadata": {},
   "source": [
    "Solving nonlinear polynomial constraints"
   ]
  },
  {
   "cell_type": "code",
   "execution_count": 7,
   "id": "a1cfdfa9-f098-45b8-94a5-c1ad06f6cb95",
   "metadata": {},
   "outputs": [
    {
     "name": "stdout",
     "output_type": "stream",
     "text": [
      "[y = 639/128, x = 1/8]\n"
     ]
    }
   ],
   "source": [
    "x = Real('x')\n",
    "y = Real('y')\n",
    "solve(x**2 + 0.12 * y**2 > 3, x**3 + y < 5)"
   ]
  },
  {
   "cell_type": "markdown",
   "id": "90cb2d02-53cc-4fa4-955c-cc445461a641",
   "metadata": {},
   "source": [
    "I have confirmed that this point is a solution using desmos"
   ]
  },
  {
   "cell_type": "markdown",
   "id": "ef132aac-5584-4d79-bdd4-6d05a357dc01",
   "metadata": {},
   "source": [
    "Z3 can represent arbitrarily large integers, rational numbers, and irrational algebraic numbers (a root of a polynomial with integer coefficients). All of these are internally represented precisely."
   ]
  },
  {
   "cell_type": "code",
   "execution_count": 8,
   "id": "6258f784-004f-4ba6-88d3-67c3612aeef6",
   "metadata": {},
   "outputs": [
    {
     "name": "stdout",
     "output_type": "stream",
     "text": [
      "[y = -1.1885280594?, x = 1.2599210498?]\n",
      "Solving, and displaying result with 30 decimal places\n",
      "[y = -1.188528059421316533710369365015?,\n",
      " x = 1.259921049894873164767210607278?]\n"
     ]
    }
   ],
   "source": [
    "x = Real('x')\n",
    "y = Real('y')\n",
    "solve(x**2 + y**2 == 3, x**3 == 2)\n",
    "\n",
    "set_option(precision=30)\n",
    "print(\"Solving, and displaying result with 30 decimal places\")\n",
    "solve(x**2 + y**2 == 3, x**3 == 2)"
   ]
  },
  {
   "cell_type": "markdown",
   "id": "c311cc09-0c46-4d66-b691-e1de75b6bb17",
   "metadata": {},
   "source": [
    "# Configuring the Z3 environment with set_option"
   ]
  },
  {
   "cell_type": "code",
   "execution_count": 9,
   "id": "5baa633b-d4ca-4da6-9f9c-96ca6fb50fab",
   "metadata": {},
   "outputs": [
    {
     "name": "stdout",
     "output_type": "stream",
     "text": [
      "0.3333333333333333\n",
      "1/3\n",
      "3/2\n",
      "x + 3333333333333333/10000000000000000\n",
      "x + 1/3\n",
      "x + 1/4\n"
     ]
    }
   ],
   "source": [
    "print(1/3)            # this is a Python float, not a Z3 rational number\n",
    "print(RealVal(1)/3)   # creates a Z3 real number 1 and divides by 3\n",
    "print(Q(3, 2))        # creates a Z3 rational with a numerator and denominator\n",
    "\n",
    "x = Real('x')\n",
    "print(x + 1/3)\n",
    "print(x + \"1/3\")\n",
    "print(x + 0.25)"
   ]
  },
  {
   "cell_type": "markdown",
   "id": "30e30b08-7968-4f13-ac6e-11c262230a16",
   "metadata": {},
   "source": [
    "Showing rational numbers in decimal notation. The ? indicates that the output is truncated"
   ]
  },
  {
   "cell_type": "code",
   "execution_count": 10,
   "id": "35927a67-e4a0-4e3a-8c39-299400aa7d02",
   "metadata": {},
   "outputs": [
    {
     "name": "stdout",
     "output_type": "stream",
     "text": [
      "[x = 1/3]\n"
     ]
    }
   ],
   "source": [
    "x = Real('x')\n",
    "solve(3*x == 1)"
   ]
  },
  {
   "cell_type": "code",
   "execution_count": 11,
   "id": "8a9af275-f347-40aa-bc46-5914bb25c51d",
   "metadata": {},
   "outputs": [
    {
     "name": "stdout",
     "output_type": "stream",
     "text": [
      "[x = 0.333333333333333333333333333333?]\n",
      "[x = 0.33333333333333333333?]\n",
      "[x = 37/6]\n"
     ]
    }
   ],
   "source": [
    "set_option(rational_to_decimal=True)  # show rationals in decimal notation\n",
    "solve(3*x == 1)\n",
    "\n",
    "set_option(precision=20)  # change number of decimal places\n",
    "solve(3*x == 1)\n",
    "\n",
    "set_option(rational_to_decimal=False)\n",
    "solve(6*x == 37)"
   ]
  },
  {
   "cell_type": "markdown",
   "id": "4534b427-38cd-4304-a352-7cd21c6be442",
   "metadata": {},
   "source": [
    "Below is an unsatisfiable system of constraints"
   ]
  },
  {
   "cell_type": "code",
   "execution_count": 12,
   "id": "824a1410-061a-49ed-9556-0b831d06e9b0",
   "metadata": {},
   "outputs": [
    {
     "name": "stdout",
     "output_type": "stream",
     "text": [
      "no solution\n"
     ]
    }
   ],
   "source": [
    "x = Real('x')\n",
    "solve(x > 4, x < 0)"
   ]
  },
  {
   "cell_type": "markdown",
   "id": "69314bdc-7af2-4b3d-9bdc-b2027fa90635",
   "metadata": {},
   "source": [
    "# Boolean Logic"
   ]
  },
  {
   "cell_type": "markdown",
   "id": "4a5d06db-6627-43e2-abe1-e25d08ff4f87",
   "metadata": {},
   "source": [
    "Boolean operators in Z3Py are And, Or, Not, Implies, If(if-then-else). Bi-implications are represented with =="
   ]
  },
  {
   "cell_type": "code",
   "execution_count": 13,
   "id": "2077daf3-1002-4d2e-bdd4-9e957a6c3257",
   "metadata": {},
   "outputs": [
    {
     "name": "stdout",
     "output_type": "stream",
     "text": [
      "[q = True, p = False, r = False]\n"
     ]
    }
   ],
   "source": [
    "p = Bool('p')\n",
    "q = Bool('q')\n",
    "r = Bool('r')\n",
    "solve(Implies(p, q), r == Not(q), Or(Not(p), r))"
   ]
  },
  {
   "cell_type": "code",
   "execution_count": 14,
   "id": "f85ccb81-53a1-44d6-b5d4-316887ffdd6a",
   "metadata": {},
   "outputs": [
    {
     "name": "stdout",
     "output_type": "stream",
     "text": [
      "And(r, q, True)\n",
      "And(r, q)\n",
      "False\n"
     ]
    }
   ],
   "source": [
    "p = Bool('r')\n",
    "q = Bool('q')\n",
    "print(And(p, q, True))\n",
    "print(simplify(And(p, q, True)))    # Python Boolean constants True and False can be used\n",
    "print(simplify(And(p, False)))"
   ]
  },
  {
   "cell_type": "code",
   "execution_count": 15,
   "id": "e84d81cc-e686-4076-baf3-411c08e3cb14",
   "metadata": {},
   "outputs": [
    {
     "name": "stdout",
     "output_type": "stream",
     "text": [
      "[x = -1.41421356237309504880?, p = False]\n"
     ]
    }
   ],
   "source": [
    "p = Bool('p')\n",
    "x = Real('x')\n",
    "solve(Or(x < 5, x > 10), Or(p, x**2 == 2), Not(p))"
   ]
  },
  {
   "cell_type": "markdown",
   "id": "ae34e8b4-56d6-44fa-ba79-f5931d9822f7",
   "metadata": {},
   "source": [
    "# Solvers"
   ]
  },
  {
   "cell_type": "code",
   "execution_count": 16,
   "id": "46ddcf4d-2246-482f-9a7a-af33b20df999",
   "metadata": {},
   "outputs": [
    {
     "name": "stdout",
     "output_type": "stream",
     "text": [
      "[]\n",
      "\n",
      "[x > 10, y == x + 2]\n",
      "Solving constraints in the solver s ...\n",
      "sat\n",
      "\n",
      "Create a new scope ...\n",
      "[x > 10, y == x + 2, y < 11]\n",
      "Solving updated set of constraints ...\n",
      "unsat\n",
      "\n",
      "Restoring state ...\n",
      "[x > 10, y == x + 2]\n",
      "Solving restored set of constraints ...\n",
      "sat\n"
     ]
    }
   ],
   "source": [
    "x = Int('x')\n",
    "y = Int('y')\n",
    "\n",
    "s = Solver()\n",
    "print(s)\n",
    "print()\n",
    "\n",
    "s.add(x > 10, y == x + 2)\n",
    "print(s)\n",
    "print(\"Solving constraints in the solver s ...\")\n",
    "print(s.check())\n",
    "print()\n",
    "\n",
    "print(\"Create a new scope ...\")\n",
    "s.push()\n",
    "s.add(y < 11)\n",
    "print(s)\n",
    "print(\"Solving updated set of constraints ...\")\n",
    "print(s.check())\n",
    "print()\n",
    "\n",
    "print(\"Restoring state ...\")\n",
    "s.pop()\n",
    "print(s)\n",
    "print(\"Solving restored set of constraints ...\")\n",
    "print(s.check())"
   ]
  },
  {
   "cell_type": "markdown",
   "id": "4022553d-221c-42a5-a1c8-c3dfaed6af55",
   "metadata": {},
   "source": [
    "Solver() method creates a general purpose solver\n",
    "add() method adds constraints (asserts constraints)\n",
    "check() solves the system of asserted constraints\n",
    "    - sat = satisfiable\n",
    "    - unsat = unsatisfiable\n",
    "    - unknown = solver failed to solve constraints\n",
    "push() method creates a new scope by saving current stack of constraints\n",
    "pop() method removes any assertions added after the push"
   ]
  },
  {
   "cell_type": "markdown",
   "id": "3107dbdc-570c-4cdd-8b9e-509478146b45",
   "metadata": {},
   "source": [
    "Z3 fails to solve the below constraints because Z3 can solve nonlinear polynomial constraints but not 2**x"
   ]
  },
  {
   "cell_type": "code",
   "execution_count": 17,
   "id": "53aa519f-6731-4788-80b7-bbc0da52c593",
   "metadata": {},
   "outputs": [
    {
     "name": "stdout",
     "output_type": "stream",
     "text": [
      "unknown\n"
     ]
    }
   ],
   "source": [
    "x = Real('x')\n",
    "s = Solver()\n",
    "s.add(2**x == 3)\n",
    "print(s.check())"
   ]
  },
  {
   "cell_type": "markdown",
   "id": "baf1c335-1b44-466e-8d13-9a65cafc345d",
   "metadata": {},
   "source": [
    "Traversing constraints and collecting performance statistics"
   ]
  },
  {
   "cell_type": "code",
   "execution_count": 18,
   "id": "28f982fc-48a7-46ec-a889-4d41e2b6cdf1",
   "metadata": {},
   "outputs": [
    {
     "name": "stdout",
     "output_type": "stream",
     "text": [
      "asserted constraints...\n",
      "x > 1\n",
      "y > 1\n",
      "Or(x + y > 3, x - y < 2)\n",
      "sat\n",
      "statistics for the last check method...\n",
      "(:arith-make-feasible 3\n",
      " :arith-max-columns   8\n",
      " :arith-max-rows      2\n",
      " :arith-upper         4\n",
      " :decisions           2\n",
      " :final-checks        1\n",
      " :max-memory          19.27\n",
      " :memory              18.96\n",
      " :mk-bool-var         4\n",
      " :num-allocs          129756167\n",
      " :num-checks          1\n",
      " :rlimit-count        5314\n",
      " :time                0.01)\n",
      "decisions : 2\n",
      "final checks : 1\n",
      "num checks : 1\n",
      "mk bool var : 4\n",
      "arith-upper : 4\n",
      "arith-make-feasible : 3\n",
      "arith-max-columns : 8\n",
      "arith-max-rows : 2\n",
      "num allocs : 129756167\n",
      "rlimit count : 5314\n",
      "max memory : 19.27\n",
      "memory : 18.96\n",
      "time : 0.011\n"
     ]
    }
   ],
   "source": [
    "x = Real('x')\n",
    "y = Real('y')\n",
    "s = Solver()\n",
    "s.add(x > 1, y > 1, Or((x + y > 3), x - y < 2))\n",
    "print(\"asserted constraints...\")\n",
    "for c in s.assertions():\n",
    "    print(c)\n",
    "\n",
    "print(s.check())\n",
    "print(\"statistics for the last check method...\")\n",
    "print(s.statistics())\n",
    "# Traversing statistics\n",
    "for k, v in s.statistics():\n",
    "    print(\"%s : %s\" % (k, v))"
   ]
  },
  {
   "cell_type": "markdown",
   "id": "04be5a94-d37b-4e0c-b506-24dabe4a2e29",
   "metadata": {},
   "source": [
    "We now look at how to inspect models, which are the solutions Z3 finds"
   ]
  },
  {
   "cell_type": "code",
   "execution_count": 19,
   "id": "eb747359-797c-438f-b712-430685d57e51",
   "metadata": {},
   "outputs": [
    {
     "name": "stdout",
     "output_type": "stream",
     "text": [
      "sat\n",
      "x = 3/2\n",
      "[y, x, z]\n",
      "traversing model...\n",
      "y = 2\n",
      "x = 3/2\n",
      "z = 0\n"
     ]
    }
   ],
   "source": [
    "x, y, z = Reals('x y z')\n",
    "s = Solver()\n",
    "s.add(x > 1, y > 1, x + y > 3, z - x < 10)\n",
    "print(s.check())\n",
    "\n",
    "m = s.model()\n",
    "print(\"x = %s\" % m[x])    # m[x] returns the interpretation of x in the model m\n",
    "\n",
    "print(m.decls())\n",
    "print(\"traversing model...\")\n",
    "for d in m.decls():\n",
    "    print(\"%s = %s\" % (d.name(), m[d]))    # m[d] returns a textual represention of d"
   ]
  },
  {
   "cell_type": "markdown",
   "id": "8b870c40-fb03-4a3d-bc55-c8b7dd9e3f78",
   "metadata": {},
   "source": [
    "# Arithmetic"
   ]
  },
  {
   "cell_type": "markdown",
   "id": "ee0dd3b1-d6ca-4ba9-b87a-585f58c22230",
   "metadata": {},
   "source": [
    "Below are different ways to declare integer and real variables. Z3 will automatically convert integers to reals where necessary"
   ]
  },
  {
   "cell_type": "code",
   "execution_count": 20,
   "id": "18ae376e-3b4b-4fad-9145-30c1b08ff6de",
   "metadata": {},
   "outputs": [
    {
     "name": "stdout",
     "output_type": "stream",
     "text": [
      "x + ToReal(y) + 1 + a + ToReal(s)\n",
      "ToReal(y) + c\n"
     ]
    }
   ],
   "source": [
    "x = Real('x')\n",
    "y = Int('y')\n",
    "a, b, c = Reals('a b c')\n",
    "s, r = Ints(\"s r\")\n",
    "print(x + y + 1 + (a + s))\n",
    "print(ToReal(y) + c)    # ToReal(i) casts an integer expression i into a real expression"
   ]
  },
  {
   "cell_type": "markdown",
   "id": "50d9f34e-7c39-4ad7-9aee-09093c273d1b",
   "metadata": {},
   "source": [
    "Z3 supports all basic arithmetic operations"
   ]
  },
  {
   "cell_type": "code",
   "execution_count": 21,
   "id": "46ec54f7-fc78-40b8-ba33-bf8d76c81898",
   "metadata": {},
   "outputs": [
    {
     "name": "stdout",
     "output_type": "stream",
     "text": [
      "[d = 0, c = 0, b = 0, e = 0, a = 10]\n"
     ]
    }
   ],
   "source": [
    "a, b, c = Ints('a b c')\n",
    "d, e = Reals('d e')\n",
    "solve(a > b + 2,\n",
    "      a == 2*c + 10,\n",
    "      c + b <= 1000,\n",
    "      d >= e)"
   ]
  },
  {
   "cell_type": "markdown",
   "id": "fe852fe3-2424-44c9-b939-7ba41fdedb46",
   "metadata": {},
   "source": [
    "The simplify() method applies simple transformations on Z3 expressions"
   ]
  },
  {
   "cell_type": "code",
   "execution_count": 22,
   "id": "4f70a107-0ab2-4e61-9437-f0e267f000b6",
   "metadata": {},
   "outputs": [
    {
     "name": "stdout",
     "output_type": "stream",
     "text": [
      "x*x*x + 3*x*x*y + 3*x*y*y + y*y*y\n",
      "x**3 + 3*x**2*y + 3*x*y**2 + y**3\n"
     ]
    }
   ],
   "source": [
    "x, y = Reals('x y')\n",
    "\n",
    "# Put expressions in sum-of-monomials form\n",
    "t = simplify((x+y)**3, som=True)\n",
    "print(t)\n",
    "\n",
    "# Use power operator\n",
    "t = simplify(t, mul_to_power=True)\n",
    "print(t)"
   ]
  },
  {
   "cell_type": "code",
   "execution_count": 23,
   "id": "0617d274-ff49-4efb-beb9-bffdc54a98a0",
   "metadata": {},
   "outputs": [
    {
     "name": "stdout",
     "output_type": "stream",
     "text": [
      "x + -1*y == 2\n",
      "x + -1*y == 2\n",
      "\n",
      "All available options:\n",
      "algebraic_number_evaluator (bool) simplify/evaluate expressions containing (algebraic) irrational numbers. (default: true)\n",
      "arith_ineq_lhs (bool) rewrite inequalities so that right-hand-side is a constant. (default: false)\n",
      "arith_lhs (bool) all monomials are moved to the left-hand-side, and the right-hand-side is just a constant. (default: false)\n",
      "bit2bool (bool) try to convert bit-vector terms of size 1 into Boolean terms (default: true)\n",
      "blast_distinct (bool) expand a distinct predicate into a quadratic number of disequalities (default: false)\n",
      "blast_distinct_threshold (unsigned int) when blast_distinct is true, only distinct expressions with less than this number of arguments are blasted (default: 4294967295)\n",
      "blast_eq_value (bool) blast (some) Bit-vector equalities into bits (default: false)\n",
      "blast_select_store (bool) eagerly replace all (select (store ..) ..) term by an if-then-else term (default: false)\n",
      "bv_extract_prop (bool) attempt to partially propagate extraction inwards (default: false)\n",
      "bv_ineq_consistency_test_max (unsigned int) max size of conjunctions on which to perform consistency test based on inequalities on bitvectors. (default: 0)\n",
      "bv_ite2id (bool) rewrite ite that can be simplified to identity (default: false)\n",
      "bv_le_extra (bool) additional bu_(u/s)le simplifications (default: false)\n",
      "bv_not_simpl (bool) apply simplifications for bvnot (default: false)\n",
      "bv_sort_ac (bool) sort the arguments of all AC operators (default: false)\n",
      "cache_all (bool) cache all intermediate results. (default: false)\n",
      "elim_and (bool) conjunctions are rewritten using negation and disjunctions (default: false)\n",
      "elim_ite (bool) eliminate ite in favor of and/or (default: true)\n",
      "elim_rem (bool) replace (rem x y) with (ite (>= y 0) (mod x y) (- (mod x y))). (default: false)\n",
      "elim_sign_ext (bool) expand sign-ext operator using concat and extract (default: true)\n",
      "elim_to_real (bool) eliminate to_real from arithmetic predicates that contain only integers. (default: false)\n",
      "eq2ineq (bool) expand equalities into two inequalities (default: false)\n",
      "expand_nested_stores (bool) replace nested stores by a lambda expression (default: false)\n",
      "expand_power (bool) expand (^ t k) into (* t ... t) if  1 < k <= max_degree. (default: false)\n",
      "expand_select_store (bool) conservatively replace a (select (store ...) ...) term by an if-then-else term (default: false)\n",
      "expand_store_eq (bool) reduce (store ...) = (store ...) with a common base into selects (default: false)\n",
      "expand_tan (bool) replace (tan x) with (/ (sin x) (cos x)). (default: false)\n",
      "flat (bool) create nary applications for and,or,+,*,bvadd,bvmul,bvand,bvor,bvxor (default: true)\n",
      "gcd_rounding (bool) use gcd rounding on integer arithmetic atoms. (default: false)\n",
      "hi_div0 (bool) use the 'hardware interpretation' for division by zero (for bit-vector terms) (default: true)\n",
      "hoist_ite (bool) hoist shared summands under ite expressions (default: false)\n",
      "hoist_mul (bool) hoist multiplication over summation to minimize number of multiplications (default: false)\n",
      "ignore_patterns_on_ground_qbody (bool) ignores patterns on quantifiers that don't mention their bound variables. (default: true)\n",
      "ite_extra_rules (bool) extra ite simplifications, these additional simplifications may reduce size locally but increase globally (default: false)\n",
      "local_ctx (bool) perform local (i.e., cheap) context simplifications (default: false)\n",
      "local_ctx_limit (unsigned int) limit for applying local context simplifier (default: 4294967295)\n",
      "max_degree (unsigned int) max degree of algebraic numbers (and power operators) processed by simplifier. (default: 64)\n",
      "max_memory (unsigned int) maximum amount of memory in megabytes (default: 4294967295)\n",
      "max_steps (unsigned int) maximum number of steps (default: 4294967295)\n",
      "mul2concat (bool) replace multiplication by a power of two into a concatenation (default: false)\n",
      "mul_to_power (bool) collpase (* t ... t) into (^ t k), it is ignored if expand_power is true. (default: false)\n",
      "pull_cheap_ite (bool) pull if-then-else terms when cheap. (default: false)\n",
      "push_ite_arith (bool) push if-then-else over arithmetic terms. (default: false)\n",
      "push_ite_bv (bool) push if-then-else over bit-vector terms. (default: false)\n",
      "push_to_real (bool) distribute to_real over * and +. (default: true)\n",
      "rewrite_patterns (bool) rewrite patterns. (default: false)\n",
      "som (bool) put polynomials in sum-of-monomials form (default: false)\n",
      "som_blowup (unsigned int) maximum increase of monomials generated when putting a polynomial in sum-of-monomials normal form (default: 10)\n",
      "sort_store (bool) sort nested stores when the indices are known to be different (default: false)\n",
      "sort_sums (bool) sort the arguments of + application. (default: false)\n",
      "split_concat_eq (bool) split equalities of the form (= (concat t1 t2) t3) (default: false)\n",
      "\n"
     ]
    }
   ],
   "source": [
    "x, y = Reals('x y')\n",
    "print(simplify(x == y + 2, ':arith-lhs', True))    # Z3 native option names\n",
    "print(simplify(x == y + 2, arith_lhs=True))        # Z3Py option names\n",
    "\n",
    "print(\"\\nAll available options:\")\n",
    "help_simplify()"
   ]
  },
  {
   "cell_type": "markdown",
   "id": "89f23720-d761-4686-9a69-1a5a647bcde0",
   "metadata": {},
   "source": [
    "Z3 supports arbitrarily large numbers. Irrational numbers are always shown in decimal notation, but the Z3 internal representation can be extracted with the sexpr() method (s-expression or Lisp-like notation)"
   ]
  },
  {
   "cell_type": "code",
   "execution_count": 24,
   "id": "4c3d02cd-0176-4f88-a2c6-cc195d9b68ee",
   "metadata": {},
   "outputs": [
    {
     "name": "stdout",
     "output_type": "stream",
     "text": [
      "[y = 20000000000000001, x = -9999979999999999999999]\n",
      "2**(1/2) + 3**(1/2)\n",
      "3.14626436994197234232?\n",
      "(root-obj (+ (^ x 4) (* (- 10) (^ x 2)) 1) 4)\n",
      "(+ x (* (^ y (/ 1.0 2.0)) 2.0))\n"
     ]
    }
   ],
   "source": [
    "x, y = Reals('x y')\n",
    "solve(x + 10000000000000000000000 == y, y > 20000000000000000)\n",
    "\n",
    "print(Sqrt(2) + Sqrt(3))\n",
    "print(simplify(Sqrt(2) + Sqrt(3)))\n",
    "print(simplify(Sqrt(2) + Sqrt(3)).sexpr())\n",
    "# The sexpr() method is available for any Z3 expression\n",
    "print((x + Sqrt(y) * 2).sexpr())"
   ]
  },
  {
   "cell_type": "markdown",
   "id": "11058f77-0003-4993-b673-e2e729d1793b",
   "metadata": {},
   "source": [
    "# Machine Arithmetic"
   ]
  },
  {
   "cell_type": "code",
   "execution_count": 25,
   "id": "0c63f7d1-9206-4dce-81c7-9e05b426d28e",
   "metadata": {},
   "outputs": [
    {
     "name": "stdout",
     "output_type": "stream",
     "text": [
      "x + 2\n",
      "(bvadd x #x0002)\n",
      "65535 + x + y\n",
      "True\n",
      "False\n"
     ]
    }
   ],
   "source": [
    "x = BitVec('x', 16)    # creates a bit-vector variable with 16 bits named x\n",
    "y = BitVec('y', 16)\n",
    "print(x + 2)\n",
    "print((x + 2).sexpr())    # Internal representation\n",
    "\n",
    "# -1 is equal to 65535 for 16-bit integers\n",
    "print(simplify(x + y - 1))\n",
    "\n",
    "# Creating bit-vector constants\n",
    "a = BitVecVal(-1, 16)    # 16-bit vector with value -1\n",
    "b = BitVecVal(65535, 16)\n",
    "print(simplify(a == b))\n",
    "\n",
    "a = BitVecVal(-1, 32)\n",
    "b = BitVecVal(65535, 32)\n",
    "# -1 is not equal to 65535 for 32-bit integers\n",
    "print(simplify(a == b))"
   ]
  },
  {
   "cell_type": "markdown",
   "id": "6f4e39c9-7900-43a2-922d-8becaf8d398b",
   "metadata": {},
   "source": [
    "In Z3Py the operators <, <=, >, >=, /, % and >> are for signed bit-vectors\n",
    "The unsigned operaotrs are ULT, ULE, UGE, UDiv, URem, and LShR"
   ]
  },
  {
   "cell_type": "code",
   "execution_count": 26,
   "id": "87fd1f9a-f5e4-4040-a292-2727755953ac",
   "metadata": {},
   "outputs": [
    {
     "name": "stdout",
     "output_type": "stream",
     "text": [
      "[y = 1, x = 1]\n"
     ]
    }
   ],
   "source": [
    "x, y = BitVecs('x y', 32)    # Create two bit-vectors of size 32\n",
    "\n",
    "solve (x + y == 2, x > 0, y > 0)"
   ]
  },
  {
   "cell_type": "code",
   "execution_count": 27,
   "id": "693073c6-d993-49c2-967d-0a411401b57c",
   "metadata": {},
   "outputs": [
    {
     "name": "stdout",
     "output_type": "stream",
     "text": [
      "[x = 0, y = 4294967295]\n",
      "[x = 4294967295]\n",
      "no solution\n"
     ]
    }
   ],
   "source": [
    "# Bit-wise operators\n",
    "# & bit-wise and\n",
    "# / bit-wise or\n",
    "# ~ bit-wise not\n",
    "solve(x & y == ~y)\n",
    "\n",
    "solve(x < 0)\n",
    "\n",
    "# using unsigned version of <\n",
    "solve(ULT(x, 0))"
   ]
  },
  {
   "cell_type": "code",
   "execution_count": 28,
   "id": "52d1c7fd-9d39-4a80-93fb-023fb9031179",
   "metadata": {},
   "outputs": [
    {
     "name": "stdout",
     "output_type": "stream",
     "text": [
      "[x = 12]\n",
      "no solution\n",
      "[x = 6]\n"
     ]
    }
   ],
   "source": [
    "# >> arithmetic shift right\n",
    "# << arithmetic shift left\n",
    "# LShR logical shift right\n",
    "\n",
    "x, y = BitVecs('x y', 32)\n",
    "\n",
    "solve(x >> 2 == 3)\n",
    "\n",
    "solve(x << 2 == 3)\n",
    "\n",
    "solve(x << 2 == 24)"
   ]
  },
  {
   "cell_type": "markdown",
   "id": "6565f043-2c71-4a09-b166-d6e537c8f7be",
   "metadata": {},
   "source": [
    "# Functions"
   ]
  },
  {
   "cell_type": "markdown",
   "id": "6209ee18-d207-4c06-87e3-37dfef3cb1d8",
   "metadata": {},
   "source": [
    "Functions in Z3 have no side-effects and are defined for all values.\n",
    "In a constraint such as x + y > 3, x and y are called uninterprted constants, as in they can be interpreted as anything that satisfies the constraint x + y > 3. This means that the function + itself is uninterpreted and can also be interpreted as anything that satisfies the constraint."
   ]
  },
  {
   "cell_type": "code",
   "execution_count": 106,
   "id": "40d89c6f-408a-46f3-ac6f-1626816b9ea2",
   "metadata": {},
   "outputs": [
    {
     "name": "stdout",
     "output_type": "stream",
     "text": [
      "[x = 0, y = 1, f = [1 -> 0, else -> 1]]\n"
     ]
    }
   ],
   "source": [
    "x = Int('x')    # uninterpreted integer constant\n",
    "y = Int('y')    # uninterpreted integer constant\n",
    "\n",
    "# Define a function f that takes an integer type and returns an integer type\n",
    "# (Types are also known as sorts)\n",
    "# f :: Int -> Int\n",
    "f = Function('f', IntSort(), IntSort())\n",
    "\n",
    "# Constrain f such that:\n",
    "#    - f applied twice to x returns x\n",
    "#    - f applied once to x returns some value y that is not equal to x\n",
    "solve(f(f(x)) == x, f(x) == y, x != y)"
   ]
  },
  {
   "cell_type": "markdown",
   "id": "ab669380-8d52-46bb-8f88-038b0047f22e",
   "metadata": {},
   "source": [
    "The solution (aka interpretation) above should be read as:\n",
    "* f(1) is 0\n",
    "* f(a) is 1 for all a not equal 1"
   ]
  },
  {
   "cell_type": "code",
   "execution_count": 30,
   "id": "6c356724-0ee5-44e5-8884-55b684a93092",
   "metadata": {},
   "outputs": [
    {
     "name": "stdout",
     "output_type": "stream",
     "text": [
      "sat\n",
      "f(f(x)) =  0\n",
      "f(x)    =  1\n"
     ]
    }
   ],
   "source": [
    "x = Int('x')\n",
    "y = Int('y')\n",
    "f = Function('f', IntSort(), IntSort())\n",
    "s = Solver()\n",
    "\n",
    "s.add(f(f(x)) == x, f(x) == y, x != y)\n",
    "print(s.check())\n",
    "\n",
    "# Evaluating expressions in the model\n",
    "m = s.model()\n",
    "print(\"f(f(x)) = \", m.evaluate(f(f(x))))\n",
    "print(\"f(x)    = \", m.evaluate(f(x)))"
   ]
  },
  {
   "cell_type": "markdown",
   "id": "4e5c2bec-b143-4af8-897a-07da9dc34d8a",
   "metadata": {},
   "source": [
    "# Satisfiability and Validity"
   ]
  },
  {
   "cell_type": "markdown",
   "id": "99a2af52-66d3-4877-8a3e-ea61e3ab3028",
   "metadata": {},
   "source": [
    "A formula/constraint F is valid if F always evaluates to true for any assignment of appropriate values. F is therefore valid if and only if the negation of Not(F) is invalid."
   ]
  },
  {
   "cell_type": "code",
   "execution_count": 31,
   "id": "643ab7f1-004f-449d-9fde-dc8b3f04bcfb",
   "metadata": {},
   "outputs": [
    {
     "name": "stdout",
     "output_type": "stream",
     "text": [
      "And(p, q) == Not(Or(Not(p), Not(q)))\n",
      "Proving demorgan...\n",
      "proved\n"
     ]
    }
   ],
   "source": [
    "# This is a simpler recreation of the Z3Py function prove()\n",
    "#    - Creates a solver\n",
    "#    - Adds the negation of the formula\n",
    "#    - Checks if the negation is unsatisfiable\n",
    "\n",
    "p, q = Bools('p q')\n",
    "demorgan = And(p, q) == Not(Or(Not(p), (Not(q))))\n",
    "print(demorgan)\n",
    "\n",
    "def prove(f):\n",
    "    s = Solver()\n",
    "    s.add(Not(f))\n",
    "    if s.check() == unsat:\n",
    "        print(\"proved\")\n",
    "    else:\n",
    "        print(\"failed to prove\")\n",
    "        \n",
    "print(\"Proving demorgan...\")\n",
    "prove(demorgan)"
   ]
  },
  {
   "cell_type": "markdown",
   "id": "5f1cbc49-00cf-44b9-8ce2-0726525e9225",
   "metadata": {},
   "source": [
    "# List Comprehension"
   ]
  },
  {
   "cell_type": "code",
   "execution_count": 32,
   "id": "38a78e0c-a053-4189-b5f2-233bf9d3bbd3",
   "metadata": {},
   "outputs": [
    {
     "name": "stdout",
     "output_type": "stream",
     "text": [
      "[1, 2, 3, 4, 5]\n",
      "[x0, x1, x2, x3, x4]\n",
      "[y0, y1, y2, y3, y4]\n",
      "[x0 + y0, x1 + y1, x2 + y2, x3 + y3, x4 + y4]\n",
      "[x0 > y0, x1 > y1, x2 > y2, x3 > y3, x4 > y4]\n",
      "And(x0 > y0, x1 > y1, x2 > y2, x3 > y3, x4 > y4)\n",
      "[[x_1_1, x_1_2, x_1_3],\n",
      " [x_2_1, x_2_2, x_2_3],\n",
      " [x_3_1, x_3_2, x_3_3]]\n"
     ]
    }
   ],
   "source": [
    "# Create list [1..5]\n",
    "print([x + 1 for x in range(5)])\n",
    "\n",
    "# Create two lists containing 5 integer variables\n",
    "X = [Int('x%s' % i) for i in range(5)]\n",
    "Y = [Int('y%s' % i) for i in range(5)]\n",
    "print(X)\n",
    "print(Y)\n",
    "\n",
    "# Create a list containing X[i] + Y[i]\n",
    "X_plus_Y = [X[i] + Y[i] for i in range(5)]\n",
    "print(X_plus_Y)\n",
    "\n",
    "# Create a list containing X[i] > Y[i]\n",
    "X_gt_Y = [X[i] > Y[i] for i in range(5)]\n",
    "print(X_gt_Y)\n",
    "\n",
    "print(And(X_gt_Y))\n",
    "\n",
    "# Create a 3x3 \"matrix\" of integer variables\n",
    "X = [[Int(\"x_%s_%s\" % (i+1, j+1)) for j in range(3)]\n",
    "      for i in range(3)]\n",
    "\n",
    "# pp() is similar to print() but it uses Z3Py formatter for\n",
    "# lists and tuples instead of Python's formatter\n",
    "pp(X)"
   ]
  },
  {
   "cell_type": "code",
   "execution_count": 33,
   "id": "5811cf22-b1da-4c08-a59f-825a562a0de8",
   "metadata": {},
   "outputs": [
    {
     "name": "stdout",
     "output_type": "stream",
     "text": [
      "[x__0, x__1, x__2, x__3, x__4]\n",
      "[y__0, y__1, y__2, y__3, y__4]\n",
      "[p__0, p__1, p__2, p__3, p__4]\n",
      "[y__0**2, y__1**2, y__2**2, y__3**2, y__4**2]\n",
      "y__0**2 + y__1**2 + y__2**2 + y__3**2 + y__4**2\n"
     ]
    }
   ],
   "source": [
    "# Z3Py also provides functions for creating vectors of Boolean, Integer, and Real variables\n",
    "X = IntVector('x', 5)\n",
    "Y = RealVector('y', 5)\n",
    "P = BoolVector('p', 5)\n",
    "print(X)\n",
    "print(Y)\n",
    "print(P)\n",
    "print([y**2 for y in Y])\n",
    "print(Sum([y**2 for y in Y]))"
   ]
  },
  {
   "cell_type": "markdown",
   "id": "42730e8a-17e3-4063-8edf-81b03589ee5e",
   "metadata": {},
   "source": [
    "# Kinematic Equations"
   ]
  },
  {
   "cell_type": "code",
   "execution_count": 35,
   "id": "c88eac8a-bdee-4fcf-8fe5-69d09edabb71",
   "metadata": {},
   "outputs": [
    {
     "data": {
      "text/html": [
       "v_f = v_i, + a&middot;t"
      ],
      "text/plain": [
       "v_f == v_i, + a*t"
      ]
     },
     "execution_count": 35,
     "metadata": {},
     "output_type": "execute_result"
    }
   ],
   "source": [
    "d, a, t, v_i, v_f = Reals('d a t v_i, v_f')\n",
    "d == v_i * t + (a*t**2)/2\n",
    "v_f == v_i + a*t"
   ]
  },
  {
   "cell_type": "code",
   "execution_count": 36,
   "id": "8096e82d-9431-4c53-a686-a132968e23e4",
   "metadata": {},
   "outputs": [
    {
     "data": {
      "text/html": [
       "v_f"
      ],
      "text/plain": [
       "v_f"
      ]
     },
     "execution_count": 36,
     "metadata": {},
     "output_type": "execute_result"
    }
   ],
   "source": [
    "v_f"
   ]
  },
  {
   "cell_type": "markdown",
   "id": "f330dce4-6f91-4d9d-9317-0ac72a847b18",
   "metadata": {},
   "source": [
    "**Problem 1**  \n",
    "Ima Hurryin is approaching a stoplight moving with a velocity of 30.0 m/s. The light turns yellow, and Ima applies the brakes and skids to a stop. If Ima's acceleration is -8.00 m/s2, then determine the displacement of the car during the skidding process."
   ]
  },
  {
   "cell_type": "code",
   "execution_count": 38,
   "id": "010e1321-2735-491e-afbc-78aeb6d2fa30",
   "metadata": {},
   "outputs": [
    {
     "name": "stdout",
     "output_type": "stream",
     "text": [
      "Kinematic equations:\n",
      "[d == v_i,*t + (a*t**2)/2, v_f == v_i, + a*t]\n",
      "Problem:\n",
      "[v_i, == 30, v_f == 0, a == -8]\n",
      "Solution:\n",
      "[a = -8, v_f = 0, v_i, = 30, t = 15/4, d = 225/4]\n"
     ]
    }
   ],
   "source": [
    "d, a, t, v_i, v_f = Reals('d a t v_i, v_f')\n",
    "\n",
    "equations = [\n",
    "    d == v_i * t + (a*t**2)/2,\n",
    "    v_f == v_i + a*t\n",
    "]\n",
    "print(\"Kinematic equations:\")\n",
    "print(equations)\n",
    "\n",
    "# Given v_i, v_f, and a, find d\n",
    "problem = [\n",
    "    v_i == 30,\n",
    "    v_f == 0,\n",
    "    a   == -8,\n",
    "]\n",
    "print(\"Problem:\")\n",
    "print(problem)\n",
    "\n",
    "print(\"Solution:\")\n",
    "solve(equations + problem)"
   ]
  },
  {
   "cell_type": "markdown",
   "id": "bb0d5016-33b8-45aa-8dc2-38d28f4d25fb",
   "metadata": {},
   "source": [
    "**Problem 2**  \n",
    "Ben Rushin is waiting at a stoplight. When it finally turns green, Ben accelerated from rest at a rate of a 6.00 m/s2 for a time of 4.10 seconds. Determine the displacement of Ben's car during this time period."
   ]
  },
  {
   "cell_type": "code",
   "execution_count": 39,
   "id": "7ceb70e8-313d-42f1-90ab-34211ccbaeab",
   "metadata": {},
   "outputs": [
    {
     "name": "stdout",
     "output_type": "stream",
     "text": [
      "Solution:\n",
      "[a = 6, t = 41/10, v_i, = 0, v_f = 123/5, d = 5043/100]\n",
      "[a = 6, t = 4.1, v_i, = 0, v_f = 24.6, d = 50.43]\n"
     ]
    }
   ],
   "source": [
    "d, a, t, v_i, v_f = Reals('d a t v_i, v_f')\n",
    "\n",
    "equations = [\n",
    "    d == v_i * t + (a*t**2)/2,\n",
    "    v_f == v_i + a*t\n",
    "]\n",
    "\n",
    "# Given v_i, t, and a, find d\n",
    "problem = [\n",
    "    v_i == 0,\n",
    "    t   == 4.10,\n",
    "    a   == 6,\n",
    "]\n",
    "\n",
    "print(\"Solution:\")\n",
    "solve(equations + problem)\n",
    "\n",
    "set_option(rational_to_decimal=True)\n",
    "solve(equations + problem)"
   ]
  },
  {
   "cell_type": "markdown",
   "id": "45ce94ac-4f48-4878-b155-113846f19bf0",
   "metadata": {},
   "source": [
    "# Bit Tricks"
   ]
  },
  {
   "cell_type": "markdown",
   "id": "783de514-1901-4664-9aa5-f3c0931f5fef",
   "metadata": {},
   "source": [
    "These are some bit-level hacks used for very quick evaluation"
   ]
  },
  {
   "cell_type": "markdown",
   "id": "9b08f6bc-5075-4d00-9bb4-73093b3e09f6",
   "metadata": {},
   "source": [
    "**Power to 2**"
   ]
  },
  {
   "cell_type": "code",
   "execution_count": 40,
   "id": "f8b104fa-b0f8-43fd-a589-c74a75ad96f5",
   "metadata": {},
   "outputs": [
    {
     "name": "stdout",
     "output_type": "stream",
     "text": [
      "And(x != 0, x & x - 1 == 0)\n",
      "proved\n",
      "trying to prove bugged version...\n",
      "failed to prove\n"
     ]
    }
   ],
   "source": [
    "# x is a power of two if and onnly if\n",
    "# x != 0 && !(x & (x-1)) is true\n",
    "\n",
    "x = BitVec('x', 32)\n",
    "powers = [2**i for i in range(32)]\n",
    "fast = And(x != 0, x & (x-1) == 0)\n",
    "slow = Or([x == p for p in powers])\n",
    "\n",
    "print(fast)\n",
    "prove(fast == slow)\n",
    "\n",
    "print(\"trying to prove bugged version...\")\n",
    "fast = x & (x-1) == 0\n",
    "prove(fast == slow)"
   ]
  },
  {
   "cell_type": "markdown",
   "id": "1b5b8d36-6715-43f3-9709-11e15d8b7100",
   "metadata": {},
   "source": [
    "**Oppostie Signs**"
   ]
  },
  {
   "cell_type": "code",
   "execution_count": 44,
   "id": "85995693-07e7-40a8-9d98-4413439ac0f8",
   "metadata": {},
   "outputs": [
    {
     "name": "stdout",
     "output_type": "stream",
     "text": [
      "proved\n"
     ]
    }
   ],
   "source": [
    "# integers x and y have opposite signs iff\n",
    "# (x ^ y) < 0\n",
    "\n",
    "x = BitVec('x', 32)\n",
    "y = BitVec('y', 32)\n",
    "\n",
    "trick = (x ^ y) < 0\n",
    "\n",
    "# more straightforward check for opposite signs\n",
    "opposite = Or(And(x <  0, y >= 0),\n",
    "              And(x >= 0,  y < 0))\n",
    "    \n",
    "prove(trick == opposite)"
   ]
  },
  {
   "cell_type": "markdown",
   "id": "698ec744-9d92-4856-a87f-40f814cd803c",
   "metadata": {},
   "source": [
    "# Puzzles"
   ]
  },
  {
   "cell_type": "markdown",
   "id": "3a5f2ece-391b-46dc-b2c2-4198fc46a32d",
   "metadata": {},
   "source": [
    "**Dog, Cat, and Mouse**  \n",
    "Consider the following puzzle. Spend exactly 100 dollars and buy exactly 100 animals. Dogs cost 15 dollars, cats cost 1 dollar, and mice cost 25 cents each. You have to buy at least one of each. How many of each should you buy?"
   ]
  },
  {
   "cell_type": "code",
   "execution_count": 51,
   "id": "967f8803-13c3-493f-81f9-91289659b8a2",
   "metadata": {},
   "outputs": [
    {
     "name": "stdout",
     "output_type": "stream",
     "text": [
      "[mouse = 56, cat = 41, dog = 3]\n"
     ]
    }
   ],
   "source": [
    "dog, cat, mouse = Ints('dog cat mouse')\n",
    "solve(dog >= 1,\n",
    "      cat >= 1,\n",
    "      mouse >= 1,\n",
    "      dog + cat + mouse == 100,\n",
    "      1500*dog + 100*cat + 25*mouse == 10000)"
   ]
  },
  {
   "cell_type": "markdown",
   "id": "f156a499-4e65-4dee-b7e9-10803586fe76",
   "metadata": {},
   "source": [
    "**Sudoku**"
   ]
  },
  {
   "cell_type": "code",
   "execution_count": 66,
   "id": "4c0407d2-826b-4b0e-9c86-6f30b76680f5",
   "metadata": {},
   "outputs": [
    {
     "name": "stdout",
     "output_type": "stream",
     "text": [
      "[[7, 1, 5, 8, 9, 4, 6, 3, 2],\n",
      " [2, 3, 4, 5, 1, 6, 8, 9, 7],\n",
      " [6, 8, 9, 7, 2, 3, 1, 4, 5],\n",
      " [4, 9, 3, 6, 5, 7, 2, 1, 8],\n",
      " [8, 6, 7, 2, 3, 1, 9, 5, 4],\n",
      " [1, 5, 2, 4, 8, 9, 7, 6, 3],\n",
      " [3, 7, 6, 1, 4, 8, 5, 2, 9],\n",
      " [9, 2, 8, 3, 6, 5, 4, 7, 1],\n",
      " [5, 4, 1, 9, 7, 2, 3, 8, 6]]\n",
      "\n",
      "Second board:\n",
      "[[6, 1, 7, 8, 2, 4, 9, 3, 5],\n",
      " [2, 3, 4, 5, 1, 9, 6, 8, 7],\n",
      " [5, 8, 9, 7, 3, 6, 1, 4, 2],\n",
      " [4, 9, 3, 6, 5, 7, 2, 1, 8],\n",
      " [7, 6, 8, 2, 9, 1, 4, 5, 3],\n",
      " [1, 5, 2, 4, 8, 3, 7, 9, 6],\n",
      " [3, 7, 6, 1, 4, 8, 5, 2, 9],\n",
      " [9, 2, 1, 3, 6, 5, 8, 7, 4],\n",
      " [8, 4, 5, 9, 7, 2, 3, 6, 1]]\n",
      "[[7, 1, 5, 6, 8, 4, 9, 3, 2],\n",
      " [2, 3, 4, 5, 1, 9, 8, 6, 7],\n",
      " [6, 8, 9, 3, 2, 7, 1, 4, 5],\n",
      " [3, 9, 7, 4, 5, 6, 2, 1, 8],\n",
      " [4, 6, 8, 2, 9, 1, 7, 5, 3],\n",
      " [1, 5, 2, 7, 3, 8, 6, 9, 4],\n",
      " [8, 7, 6, 1, 4, 3, 5, 2, 9],\n",
      " [9, 2, 3, 8, 6, 5, 4, 7, 1],\n",
      " [5, 4, 1, 9, 7, 2, 3, 8, 6]]\n",
      "[[7, 1, 6, 8, 2, 4, 9, 3, 5],\n",
      " [2, 3, 4, 5, 1, 9, 6, 8, 7],\n",
      " [5, 8, 9, 6, 3, 7, 1, 4, 2],\n",
      " [3, 9, 7, 4, 5, 6, 2, 1, 8],\n",
      " [4, 6, 8, 2, 9, 1, 7, 5, 3],\n",
      " [1, 5, 2, 7, 8, 3, 4, 9, 6],\n",
      " [6, 7, 1, 3, 4, 8, 5, 2, 9],\n",
      " [9, 2, 3, 1, 6, 5, 8, 7, 4],\n",
      " [8, 4, 5, 9, 7, 2, 3, 6, 1]]\n",
      "[[5, 1, 6, 7, 8, 4, 9, 3, 2],\n",
      " [2, 3, 4, 5, 1, 9, 6, 8, 7],\n",
      " [7, 8, 9, 6, 2, 3, 1, 4, 5],\n",
      " [3, 9, 7, 4, 5, 6, 2, 1, 8],\n",
      " [4, 6, 8, 2, 9, 1, 7, 5, 3],\n",
      " [1, 5, 2, 8, 3, 7, 4, 9, 6],\n",
      " [6, 7, 1, 3, 4, 8, 5, 2, 9],\n",
      " [9, 2, 3, 1, 6, 5, 8, 7, 4],\n",
      " [8, 4, 5, 9, 7, 2, 3, 6, 1]]\n",
      "[[5, 1, 6, 7, 8, 4, 9, 3, 2],\n",
      " [2, 3, 4, 5, 1, 9, 6, 8, 7],\n",
      " [7, 8, 9, 6, 2, 3, 1, 4, 5],\n",
      " [3, 9, 7, 4, 5, 6, 2, 1, 8],\n",
      " [4, 6, 8, 2, 9, 1, 7, 5, 3],\n",
      " [1, 5, 2, 8, 3, 7, 4, 9, 6],\n",
      " [6, 7, 3, 1, 4, 8, 5, 2, 9],\n",
      " [9, 2, 1, 3, 6, 5, 8, 7, 4],\n",
      " [8, 4, 5, 9, 7, 2, 3, 6, 1]]\n",
      "[[7, 1, 5, 6, 8, 4, 9, 3, 2],\n",
      " [2, 3, 4, 5, 1, 9, 6, 8, 7],\n",
      " [6, 8, 9, 3, 2, 7, 1, 4, 5],\n",
      " [3, 9, 7, 4, 5, 6, 2, 1, 8],\n",
      " [4, 6, 8, 2, 9, 1, 7, 5, 3],\n",
      " [1, 5, 2, 7, 3, 8, 4, 9, 6],\n",
      " [8, 7, 6, 1, 4, 3, 5, 2, 9],\n",
      " [9, 2, 1, 8, 6, 5, 3, 7, 4],\n",
      " [5, 4, 3, 9, 7, 2, 8, 6, 1]]\n",
      "[[7, 1, 5, 6, 8, 4, 9, 3, 2],\n",
      " [2, 3, 4, 5, 1, 9, 8, 6, 7],\n",
      " [6, 8, 9, 3, 2, 7, 1, 4, 5],\n",
      " [3, 9, 7, 4, 5, 6, 2, 1, 8],\n",
      " [4, 6, 8, 2, 9, 1, 7, 5, 3],\n",
      " [1, 5, 2, 7, 3, 8, 4, 9, 6],\n",
      " [8, 7, 6, 1, 4, 3, 5, 2, 9],\n",
      " [9, 2, 1, 8, 6, 5, 3, 7, 4],\n",
      " [5, 4, 3, 9, 7, 2, 6, 8, 1]]\n",
      "[[7, 1, 6, 8, 2, 4, 9, 3, 5],\n",
      " [2, 3, 4, 5, 1, 9, 6, 8, 7],\n",
      " [5, 8, 9, 7, 3, 6, 1, 4, 2],\n",
      " [4, 9, 7, 6, 5, 3, 2, 1, 8],\n",
      " [8, 6, 3, 2, 9, 1, 7, 5, 4],\n",
      " [1, 5, 2, 4, 8, 7, 3, 9, 6],\n",
      " [6, 7, 1, 3, 4, 8, 5, 2, 9],\n",
      " [9, 2, 8, 1, 6, 5, 4, 7, 3],\n",
      " [3, 4, 5, 9, 7, 2, 8, 6, 1]]\n",
      "[[7, 1, 6, 8, 2, 4, 9, 3, 5],\n",
      " [2, 3, 4, 5, 1, 9, 8, 6, 7],\n",
      " [5, 8, 9, 7, 3, 6, 1, 4, 2],\n",
      " [4, 9, 7, 6, 5, 3, 2, 1, 8],\n",
      " [8, 6, 3, 2, 9, 1, 7, 5, 4],\n",
      " [1, 5, 2, 4, 8, 7, 3, 9, 6],\n",
      " [6, 7, 1, 3, 4, 8, 5, 2, 9],\n",
      " [9, 2, 8, 1, 6, 5, 4, 7, 3],\n",
      " [3, 4, 5, 9, 7, 2, 6, 8, 1]]\n",
      "[[7, 1, 6, 8, 2, 4, 9, 3, 5],\n",
      " [2, 3, 4, 5, 1, 9, 6, 8, 7],\n",
      " [5, 8, 9, 6, 3, 7, 1, 4, 2],\n",
      " [3, 9, 7, 4, 5, 6, 2, 1, 8],\n",
      " [4, 6, 8, 2, 9, 1, 7, 5, 3],\n",
      " [1, 5, 2, 7, 8, 3, 4, 9, 6],\n",
      " [6, 7, 3, 1, 4, 8, 5, 2, 9],\n",
      " [9, 2, 1, 3, 6, 5, 8, 7, 4],\n",
      " [8, 4, 5, 9, 7, 2, 3, 6, 1]]\n"
     ]
    }
   ],
   "source": [
    "# 9x9 matrix of integer variables\n",
    "X = [[Int(\"x_%s_%s\" % (i+1, j+1)) \n",
    "      for j in range(9)] for i in range(9)]\n",
    "\n",
    "# each cell contains a value in [1..9]\n",
    "cells_c = [And(1 <= X[i][j], X[i][j] <= 9) \n",
    "           for i in range(9) for j in range(9)]\n",
    "\n",
    "# each row contains each digit at most once\n",
    "rows_c = [Distinct(X[i]) for i in range(9)]\n",
    "\n",
    "# each column contains each digit at most once\n",
    "cols_c = [Distinct([X[i][j] for i in range(9)]) \n",
    "          for j in range(9)]\n",
    "\n",
    "# each 3x3 square contains each digit at most once\n",
    "sq_c   = [Distinct([X[3*i0 + i][3*j0 + j]\n",
    "                    for i in range (3) for j in range(3)])\n",
    "          for i0 in range(3) for j0 in range(3)]\n",
    "\n",
    "sudoku_c = cells_c + rows_c + cols_c + sq_c\n",
    "\n",
    "# sudoku instance, 0 represents empty cell\n",
    "instance = ((0,0,0,0,9,4,0,3,0),\n",
    "            (0,0,0,5,1,0,0,0,7),\n",
    "            (0,8,9,0,0,0,0,4,0),\n",
    "            (0,0,0,0,0,0,2,0,8),\n",
    "            (0,6,0,2,0,1,0,5,0),\n",
    "            (1,0,2,0,0,0,0,0,0),\n",
    "            (0,7,0,0,0,0,5,2,0),\n",
    "            (9,0,0,0,6,5,0,0,0),\n",
    "            (0,4,0,9,7,0,0,0,0))\n",
    "\n",
    "# copy filled in cells into X\n",
    "instance_c = [If(instance[i][j] == 0,\n",
    "                 True,\n",
    "                 X[i][j] == instance[i][j])\n",
    "              for i in range(9) for j in range(9)]\n",
    "\n",
    "s = Solver()\n",
    "s.add(sudoku_c + instance_c)\n",
    "if s.check() == sat:\n",
    "    m = s.model()\n",
    "    r = [[m.evaluate(X[i][j]) for j in range (9)]\n",
    "         for i in range(9)]\n",
    "    print_matrix(r)\n",
    "else:\n",
    "    print(\"failed to solve\")\n",
    "    \n",
    "\n",
    "\n",
    "# Let's remove 9 from the first row and see if there is more than one solution\n",
    "instance = ((0,0,0,0,0,4,0,3,0),\n",
    "            (0,0,0,5,1,0,0,0,7),\n",
    "            (0,8,9,0,0,0,0,4,0),\n",
    "            (0,0,0,0,0,0,2,0,8),\n",
    "            (0,6,0,2,0,1,0,5,0),\n",
    "            (1,0,2,0,0,0,0,0,0),\n",
    "            (0,7,0,0,0,0,5,2,0),\n",
    "            (9,0,0,0,6,5,0,0,0),\n",
    "            (0,4,0,9,7,0,0,0,0))\n",
    "\n",
    "# copy filled in cells into X\n",
    "instance_c = [If(instance[i][j] == 0,\n",
    "                 True,\n",
    "                 X[i][j] == instance[i][j])\n",
    "              for i in range(9) for j in range(9)]\n",
    "\n",
    "def n_solutions(n):\n",
    "    s = Solver()\n",
    "    s.add(sudoku_c + instance_c)\n",
    "    i = 0\n",
    "    while s.check() == sat and i < n:\n",
    "        m = s.model()\n",
    "        print_matrix([[m.evaluate(X[i][j]) for j in range (9)]\n",
    "               for i in range(9)])\n",
    "        fml = And([X[i][j] == m.evaluate(X[i][j]) for i in range(9) for j in range(9)])\n",
    "        s.add(Not(fml))\n",
    "        i += 1\n",
    "        \n",
    "print(\"\\nSecond board:\")\n",
    "n_solutions(10)"
   ]
  },
  {
   "cell_type": "markdown",
   "id": "9fb6d367-056e-4b66-8f67-26a1709e69a9",
   "metadata": {},
   "source": [
    "**Eight Queens**  \n",
    "The eight queens puzzle is the problem of placing eight chess queens on an 8x8 chessboard so that no two queens attack each other. Thus, a solution requires that no two queens share the same row, column, or diagonal."
   ]
  },
  {
   "cell_type": "code",
   "execution_count": null,
   "id": "d26295bc-9459-472e-86e1-743aeb370a65",
   "metadata": {},
   "outputs": [
    {
     "name": "stdout",
     "output_type": "stream",
     "text": [
      "[Q_3 = 4,\n",
      " Q_1 = 5,\n",
      " Q_7 = 6,\n",
      " Q_8 = 1,\n",
      " Q_5 = 3,\n",
      " Q_4 = 7,\n",
      " Q_2 = 2,\n",
      " Q_6 = 8]\n"
     ]
    }
   ],
   "source": [
    "# we know each queen must be in a different row\n",
    "# so we represent each queen by its column number\n",
    "Queens = [Int('Q_%i' % (i+1)) for i in range(8)]\n",
    "\n",
    "# each queen is in a column in range [1..8]\n",
    "val_c = [And(1 <= Queens[i], Queens[i] <= 8) for i in range(8)]\n",
    "\n",
    "# at most one queen per column\n",
    "col_c = [Distinct(Queens)]\n",
    "\n",
    "# Diagnol constraint\n",
    "diag_c = [If(i == j,\n",
    "             True,\n",
    "             And(Queens[i] - Queens[j] != i - j, Queens[i] - Queens[j] != j - i))\n",
    "          for i in range(8) for j in range(i)]\n",
    "\n",
    "solve(val_c + col_c + diag_c)"
   ]
  },
  {
   "cell_type": "markdown",
   "id": "a7f3f940-84d4-47ef-bcce-3af0eb700e61",
   "metadata": {},
   "source": [
    "# Morloc Type Constraints"
   ]
  },
  {
   "cell_type": "markdown",
   "id": "db8378da-a558-4c3a-84e3-cc2ba75ca8b0",
   "metadata": {},
   "source": [
    "Given the Haskell code below with constraints on roll and max, find the constraints on the codomain of rollAdvantage"
   ]
  },
  {
   "cell_type": "raw",
   "id": "b4eaea1e-5320-4b08-8b33-91867071000d",
   "metadata": {},
   "source": [
    "roll :: x:Int -> y:Int where\n",
    "  x > 0\n",
    "  y > 0\n",
    "  y <= x\n",
    "\n",
    "max :: a:Int -> b:Int -> z:Int where\n",
    "  (a > b && z == a) || (b >= a && z == b)\n",
    "\n",
    "rollAdvantage = max (roll 20) (roll 20)"
   ]
  },
  {
   "cell_type": "code",
   "execution_count": 117,
   "id": "2d2f0b80-ce93-43e1-bd64-2e8e6a6df483",
   "metadata": {},
   "outputs": [
    {
     "name": "stdout",
     "output_type": "stream",
     "text": [
      "[x = 1, roll = [else -> 1]]\n",
      "[b = 0, a = 1, max = [else -> 1]]\n",
      "sat\n",
      "x                       =  7720\n",
      "roll(20)                =  1\n",
      "max(1, 2)               =  1\n",
      "max(roll(20), roll(20)) =  1\n"
     ]
    }
   ],
   "source": [
    "x, a, b = Ints('x a b')\n",
    "p, q = Ints('p q')\n",
    "\n",
    "roll = Function('roll', IntSort(), IntSort())\n",
    "max = Function('max', IntSort(), IntSort(), IntSort())\n",
    "\n",
    "roll_c = [x > 0,\n",
    "          roll(x) > 0,\n",
    "          roll(x) <= x]\n",
    "\n",
    "max_c = [Or(And(a > b, max(a, b) == a),\n",
    "           (And(b >= a, max(a, b) == b)))]\n",
    "\n",
    "solve(roll_c)\n",
    "solve(max_c)\n",
    "\n",
    "s = Solver()\n",
    "s.add(max_c + roll_c + max_implies_c)\n",
    "print(s.check())\n",
    "\n",
    "m = s.model()\n",
    "print(\"x                       = \", m.eval(x))\n",
    "print(\"roll(20)                = \", m.eval(roll(20)))\n",
    "print(\"max(1, 2)               = \", m.eval(max(1, 2)))\n",
    "print(\"max(roll(20), roll(20)) = \", m.eval(max(roll(20), roll(20))))"
   ]
  },
  {
   "cell_type": "markdown",
   "id": "89e099ba-1ea9-410c-9744-7183208d1b53",
   "metadata": {},
   "source": [
    "Above is a very badly "
   ]
  }
 ],
 "metadata": {
  "kernelspec": {
   "display_name": "Python 3 (ipykernel)",
   "language": "python",
   "name": "python3"
  },
  "language_info": {
   "codemirror_mode": {
    "name": "ipython",
    "version": 3
   },
   "file_extension": ".py",
   "mimetype": "text/x-python",
   "name": "python",
   "nbconvert_exporter": "python",
   "pygments_lexer": "ipython3",
   "version": "3.8.10"
  }
 },
 "nbformat": 4,
 "nbformat_minor": 5
}
